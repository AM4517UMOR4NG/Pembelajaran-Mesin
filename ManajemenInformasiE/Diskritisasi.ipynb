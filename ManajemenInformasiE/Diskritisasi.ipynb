{
  "nbformat": 4,
  "nbformat_minor": 0,
  "metadata": {
    "colab": {
      "provenance": []
    },
    "kernelspec": {
      "name": "python3",
      "display_name": "Python 3"
    },
    "language_info": {
      "name": "python"
    }
  },
  "cells": [
    {
      "cell_type": "code",
      "source": [
        "import pandas as pd\n",
        "import numpy as np\n",
        "\n",
        "print(\"Langkah Awal: Membaca Dataset dan Persiapan Awal\")\n",
        "print(\"a. Kode ini membaca file diabetes.csv menggunakan pandas.\")\n",
        "print(\"b. Memeriksa keberadaan kolom Glucose dan BloodPressure untuk memastikan data siap didiskritisasi.\")\n",
        "print(\"c. Menampilkan 5 baris pertama untuk memverifikasi bahwa data terbaca dengan benar.\")\n",
        "print(\"d. Hasilnya: Dataset dimuat ke dalam DataFrame 'df', dan kita bisa melihat struktur data awal.\\n\")\n",
        "\n",
        "df = pd.read_csv('/diabetes.csv')\n",
        "if 'Glucose' not in df.columns or 'BloodPressure' not in df.columns:\n",
        "    raise ValueError(\"Kolom Glucose atau BloodPressure tidak ditemukan dalam dataset.\")\n",
        "print(\"5 Baris Pertama Dataset:\")\n",
        "print(df.head())\n",
        "print(\"\\n\")"
      ],
      "metadata": {
        "colab": {
          "base_uri": "https://localhost:8080/"
        },
        "id": "AlDsoCuXZYvy",
        "outputId": "019b8433-6479-4146-c9d7-7be19332d542"
      },
      "execution_count": 44,
      "outputs": [
        {
          "output_type": "stream",
          "name": "stdout",
          "text": [
            "Langkah Awal: Membaca Dataset dan Persiapan Awal\n",
            "a. Kode ini membaca file diabetes.csv menggunakan pandas.\n",
            "b. Memeriksa keberadaan kolom Glucose dan BloodPressure untuk memastikan data siap didiskritisasi.\n",
            "c. Menampilkan 5 baris pertama untuk memverifikasi bahwa data terbaca dengan benar.\n",
            "d. Hasilnya: Dataset dimuat ke dalam DataFrame 'df', dan kita bisa melihat struktur data awal.\n",
            "\n",
            "5 Baris Pertama Dataset:\n",
            "   Pregnancies  Glucose  BloodPressure  SkinThickness  Insulin   BMI  \\\n",
            "0            6      148             72             35        0  33.6   \n",
            "1            1       85             66             29        0  26.6   \n",
            "2            8      183             64              0        0  23.3   \n",
            "3            1       89             66             23       94  28.1   \n",
            "4            0      137             40             35      168  43.1   \n",
            "\n",
            "   DiabetesPedigreeFunction  Age  Outcome  \n",
            "0                     0.627   50        1  \n",
            "1                     0.351   31        0  \n",
            "2                     0.672   32        1  \n",
            "3                     0.167   21        0  \n",
            "4                     2.288   33        1  \n",
            "\n",
            "\n"
          ]
        }
      ]
    },
    {
      "cell_type": "code",
      "source": [
        "print(\"Langkah Kedua: Fungsi Equal-Width Binning\")\n",
        "print(\"a. Metode ini membagi rentang nilai (min ke max) menjadi interval dengan lebar sama.\")\n",
        "print(\"b. Cara kerja: Hitung lebar bin = (max - min) / jumlah bin, lalu buat batas bin.\")\n",
        "print(\"c. Hasilnya: Nilai dalam kolom akan dikategorikan ke dalam label seperti 'RENDAH', 'NORMAL', 'TINGGI' berdasarkan batas bin.\")\n",
        "print(\"d. Contoh: Jika Glucose 0-199, lebar bin ≈ 66.33, maka bin: [0-66.33), [66.33-132.66), [132.66-199].\\n\")\n",
        "\n",
        "def equal_width_binning(data, column, bins=3, labels=['RENDAH', 'NORMAL', 'TINGGI']):\n",
        "    min_val = data[column].min()\n",
        "    max_val = data[column].max()\n",
        "    bin_width = (max_val - min_val) / bins\n",
        "    bin_edges = [min_val + i * bin_width for i in range(bins + 1)]\n",
        "    bin_edges[-1] = max_val + 0.01  # Offset kecil agar semua data masuk bin\n",
        "    return pd.cut(data[column], bins=bin_edges, labels=labels, include_lowest=True)"
      ],
      "metadata": {
        "colab": {
          "base_uri": "https://localhost:8080/"
        },
        "id": "1epF0q9lYTCm",
        "outputId": "3947c760-1f50-4ee8-8bd0-ec97fe2f1df5"
      },
      "execution_count": 45,
      "outputs": [
        {
          "output_type": "stream",
          "name": "stdout",
          "text": [
            "Langkah Kedua: Fungsi Equal-Width Binning\n",
            "a. Metode ini membagi rentang nilai (min ke max) menjadi interval dengan lebar sama.\n",
            "b. Cara kerja: Hitung lebar bin = (max - min) / jumlah bin, lalu buat batas bin.\n",
            "c. Hasilnya: Nilai dalam kolom akan dikategorikan ke dalam label seperti 'RENDAH', 'NORMAL', 'TINGGI' berdasarkan batas bin.\n",
            "d. Contoh: Jika Glucose 0-199, lebar bin ≈ 66.33, maka bin: [0-66.33), [66.33-132.66), [132.66-199].\n",
            "\n"
          ]
        }
      ]
    },
    {
      "cell_type": "code",
      "source": [
        "print(\"Langkah Ketiga: Fungsi Equal-Frequency Binning\")\n",
        "print(\"a. Metode ini membagi data sehingga setiap bin memiliki jumlah observasi yang sama.\")\n",
        "print(\"b. Cara kerja: Gunakan kuantil untuk menentukan batas bin, misalnya 33.3% dan 66.6% untuk 3 bin.\")\n",
        "print(\"c. Hasilnya: Nilai dikategorikan ke dalam label, dengan distribusi data merata di setiap bin.\")\n",
        "print(\"d. Contoh: Untuk 768 data, setiap bin ≈ 256 data, batas bin berdasarkan nilai kuantil.\\n\")\n",
        "\n",
        "def equal_frequency_binning(data, column, bins=3, labels=['RENDAH', 'NORMAL', 'TINGGI']):\n",
        "    quantiles = np.linspace(0, 1, bins + 1)\n",
        "    bin_edges = data[column].quantile(quantiles).values\n",
        "    bin_edges[-1] = data[column].max() + 0.01  # Offset kecil agar semua data masuk bin\n",
        "    return pd.cut(data[column], bins=bin_edges, labels=labels, include_lowest=True)"
      ],
      "metadata": {
        "colab": {
          "base_uri": "https://localhost:8080/"
        },
        "id": "aQ3BCPRSYq4W",
        "outputId": "95823654-8179-4851-8a11-a2dbcafd513f"
      },
      "execution_count": 46,
      "outputs": [
        {
          "output_type": "stream",
          "name": "stdout",
          "text": [
            "Langkah Ketiga: Fungsi Equal-Frequency Binning\n",
            "a. Metode ini membagi data sehingga setiap bin memiliki jumlah observasi yang sama.\n",
            "b. Cara kerja: Gunakan kuantil untuk menentukan batas bin, misalnya 33.3% dan 66.6% untuk 3 bin.\n",
            "c. Hasilnya: Nilai dikategorikan ke dalam label, dengan distribusi data merata di setiap bin.\n",
            "d. Contoh: Untuk 768 data, setiap bin ≈ 256 data, batas bin berdasarkan nilai kuantil.\n",
            "\n"
          ]
        }
      ]
    },
    {
      "cell_type": "code",
      "source": [
        "print(\"Langkah Keempat: Mengaplikasikan Diskritisasi\")\n",
        "print(\"a. Program pertama akan menerapkan Equal-Width dan Equal-Frequency Binning pada kolom Glucose dan BloodPressure.\")\n",
        "print(\"b. Cara kerja: Panggil fungsi dari Bagian 2 dan 3, simpan hasilnya ke kolom baru.\")\n",
        "print(\"c. Hasilnya: Kolom baru (Glucose_EW, Glucose_EF, dll.) berisi kategori berdasarkan metode masing-masing.\")\n",
        "print(\"d. Contoh hasil: Glucose 148 bisa jadi 'TINGGI' di Equal-Width, tapi 'NORMAL' di Equal-Frequency.\\n\")\n",
        "\n",
        "df['Glucose_EW'] = equal_width_binning(df, 'Glucose')\n",
        "df['BloodPressure_EW'] = equal_width_binning(df, 'BloodPressure')\n",
        "df['Glucose_EF'] = equal_frequency_binning(df, 'Glucose')\n",
        "df['BloodPressure_EF'] = equal_frequency_binning(df, 'BloodPressure')\n",
        "print(\"Hasil Diskritisasi (5 baris pertama):\")\n",
        "print(df[['Glucose', 'Glucose_EW', 'Glucose_EF', 'BloodPressure', 'BloodPressure_EW', 'BloodPressure_EF']].head())\n",
        "print(\"\\n\")"
      ],
      "metadata": {
        "colab": {
          "base_uri": "https://localhost:8080/"
        },
        "id": "6qlKKUJYYz8B",
        "outputId": "e45976a9-4800-4ce8-dd08-56f49320e560"
      },
      "execution_count": 56,
      "outputs": [
        {
          "output_type": "stream",
          "name": "stdout",
          "text": [
            "Langkah Keempat: Mengaplikasikan Diskritisasi\n",
            "a. Program pertama akan menerapkan Equal-Width dan Equal-Frequency Binning pada kolom Glucose dan BloodPressure.\n",
            "b. Cara kerja: Panggil fungsi dari Bagian 2 dan 3, simpan hasilnya ke kolom baru.\n",
            "c. Hasilnya: Kolom baru (Glucose_EW, Glucose_EF, dll.) berisi kategori berdasarkan metode masing-masing.\n",
            "d. Contoh hasil: Glucose 148 bisa jadi 'TINGGI' di Equal-Width, tapi 'NORMAL' di Equal-Frequency.\n",
            "\n",
            "Hasil Diskritisasi (5 baris pertama):\n",
            "   Glucose Glucose_EW Glucose_EF  BloodPressure BloodPressure_EW  \\\n",
            "0      148     TINGGI     TINGGI             72           NORMAL   \n",
            "1       85     NORMAL     RENDAH             66           NORMAL   \n",
            "2      183     TINGGI     TINGGI             64           NORMAL   \n",
            "3       89     NORMAL     RENDAH             66           NORMAL   \n",
            "4      137     TINGGI     TINGGI             40           RENDAH   \n",
            "\n",
            "  BloodPressure_EF  \n",
            "0           NORMAL  \n",
            "1           RENDAH  \n",
            "2           RENDAH  \n",
            "3           RENDAH  \n",
            "4           RENDAH  \n",
            "\n",
            "\n"
          ]
        }
      ]
    },
    {
      "cell_type": "code",
      "source": [
        "print(\"Langkah Terakhir: Penjelasan Metode dan Hasil\")\n",
        "print(\"1. Equal-Width Binning:\")\n",
        "print(\"   - Metode ini membagi rentang nilai (dari minimum ke maksimum) menjadi interval dengan lebar yang sama.\")\n",
        "print(\"   - Untuk kolom Glucose dan BloodPressure, rentang dibagi menjadi 3 bin: RENDAH, NORMAL, TINGGI.\")\n",
        "print(\"   - Contoh untuk Glucose: Rentang 0-199, lebar bin (199-0)/3 ≈ 66.33.\")\n",
        "print(\"     - Bin: [0, 66.33) → RENDAH, [66.33, 132.66) → NORMAL, [132.66, 199] → TINGGI.\")\n",
        "\n",
        "print(\"2. Equal-Frequency Binning:\")\n",
        "print(\"   - Metode ini membagi data sehingga setiap bin memiliki jumlah data yang kurang lebih sama (berdasarkan kuantil).\")\n",
        "print(\"   - Untuk 3 bin, data dibagi berdasarkan persentil 33,3% dan 66,6%.\")\n",
        "print(\"   - Contoh untuk Glucose: Dengan 768 data, setiap bin akan berisi sekitar 256 data.\")\n",
        "print(\"     - Batas bin ditentukan oleh nilai pada kuantil 33,3% dan 66,6%.\")\n",
        "\n",
        "print(\"3. Hasil Diskritisasi:\")\n",
        "print(\"   - Kolom Glucose dan BloodPressure telah didiskritisasi menjadi 3 kategori: RENDAH, NORMAL, TINGGI.\")\n",
        "print(\"   - Hasil disimpan dalam file 'diabetes_discretized.csv'.\")\n",
        "print(\"   - Contoh hasil (dari 5 baris pertama):\")\n",
        "print(\"     - Glucose: 148 (Tinggi di Equal-Width, Normal di Equal-Frequency).\")\n",
        "print(\"     - BloodPressure: 72 (Normal di Equal-Width, Rendah di Equal-Frequency).\")\n",
        "print(\"   - Perbedaan ini menunjukkan fokus Equal-Width pada rentang nilai, sedangkan Equal-Frequency pada jumlah data per bin.\\n\")\n",
        "\n",
        "print(\"4. Tambahan:\")\n",
        "print(\"   - Beberapa nilai BloodPressure bernilai 0, yang mungkin merupakan data yang hilang atau tidak valid.\")\n",
        "print(\"   - Dalam analisis nyata, nilai 0 ini perlu ditangani (misalnya, diimputasi atau dihapus).\")\n",
        "print(\"   - Hasil diskritisasi dapat digunakan untuk analisis lebih lanjut, seperti klasifikasi atau visualisasi distribusi kategori.\")"
      ],
      "metadata": {
        "colab": {
          "base_uri": "https://localhost:8080/"
        },
        "id": "wihFWyWTj84m",
        "outputId": "dd6bcaec-f237-46d3-e215-6699218cdc99"
      },
      "execution_count": 58,
      "outputs": [
        {
          "output_type": "stream",
          "name": "stdout",
          "text": [
            "Langkah Terakhir: Penjelasan Metode dan Hasil\n",
            "1. Equal-Width Binning:\n",
            "   - Metode ini membagi rentang nilai (dari minimum ke maksimum) menjadi interval dengan lebar yang sama.\n",
            "   - Untuk kolom Glucose dan BloodPressure, rentang dibagi menjadi 3 bin: RENDAH, NORMAL, TINGGI.\n",
            "   - Contoh untuk Glucose: Rentang 0-199, lebar bin (199-0)/3 ≈ 66.33.\n",
            "     - Bin: [0, 66.33) → RENDAH, [66.33, 132.66) → NORMAL, [132.66, 199] → TINGGI.\n",
            "2. Equal-Frequency Binning:\n",
            "   - Metode ini membagi data sehingga setiap bin memiliki jumlah data yang kurang lebih sama (berdasarkan kuantil).\n",
            "   - Untuk 3 bin, data dibagi berdasarkan persentil 33,3% dan 66,6%.\n",
            "   - Contoh untuk Glucose: Dengan 768 data, setiap bin akan berisi sekitar 256 data.\n",
            "     - Batas bin ditentukan oleh nilai pada kuantil 33,3% dan 66,6%.\n",
            "3. Hasil Diskritisasi:\n",
            "   - Kolom Glucose dan BloodPressure telah didiskritisasi menjadi 3 kategori: RENDAH, NORMAL, TINGGI.\n",
            "   - Hasil disimpan dalam file 'diabetes_discretized.csv'.\n",
            "   - Contoh hasil (dari 5 baris pertama):\n",
            "     - Glucose: 148 (Tinggi di Equal-Width, Normal di Equal-Frequency).\n",
            "     - BloodPressure: 72 (Normal di Equal-Width, Rendah di Equal-Frequency).\n",
            "   - Perbedaan ini menunjukkan fokus Equal-Width pada rentang nilai, sedangkan Equal-Frequency pada jumlah data per bin.\n",
            "\n",
            "4. Tambahan:\n",
            "   - Beberapa nilai BloodPressure bernilai 0, yang mungkin merupakan data yang hilang atau tidak valid.\n",
            "   - Dalam analisis nyata, nilai 0 ini perlu ditangani (misalnya, diimputasi atau dihapus).\n",
            "   - Hasil diskritisasi dapat digunakan untuk analisis lebih lanjut, seperti klasifikasi atau visualisasi distribusi kategori.\n"
          ]
        }
      ]
    }
  ]
}