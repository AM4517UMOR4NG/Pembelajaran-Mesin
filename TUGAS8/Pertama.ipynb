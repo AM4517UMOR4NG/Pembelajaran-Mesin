{
  "nbformat": 4,
  "nbformat_minor": 0,
  "metadata": {
    "colab": {
      "provenance": []
    },
    "kernelspec": {
      "name": "python3",
      "display_name": "Python 3"
    },
    "language_info": {
      "name": "python"
    }
  },
  "cells": [
    {
      "cell_type": "code",
      "execution_count": 3,
      "metadata": {
        "colab": {
          "base_uri": "https://localhost:8080/"
        },
        "id": "7MmoghB5Vbfi",
        "outputId": "7db8c175-ee18-49b1-a8fd-29c0d2f33572"
      },
      "outputs": [
        {
          "output_type": "stream",
          "name": "stdout",
          "text": [
            "Dataset awal:\n",
            "   Задолженность  Просрочка, дни  Первоначльный лимит   BIRTHDATE      SEX  \\\n",
            "0        6063.50               3               7000.0  1983-07-08  Мужской   \n",
            "1        3765.04               0               5000.0  1987-12-19  Женский   \n",
            "2        2067.66               0               2650.0  1966-02-28  Женский   \n",
            "3        2370.39               0               3000.0  1972-02-18  Женский   \n",
            "4        2280.55               0               3000.0  1997-02-23  Женский   \n",
            "\n",
            "                   EDU   INCOME  TERM Рейтинг кредитной истории  \\\n",
            "0  Среднее специальное   703.07    60                        A1   \n",
            "1               Высшее  1693.68    60                        B2   \n",
            "2              Среднее   724.49    60                        C2   \n",
            "3  Среднее специальное  1045.84    60                        A3   \n",
            "4               Высшее  1092.65    60                        B3   \n",
            "\n",
            "              LV_AREA LV_SETTLEMENTNAME                INDUSTRYNAME   PDN  \\\n",
            "0  Гомельская область         КОСАКОВКА                         АПК  0.98   \n",
            "1                 NaN             МИНСК       Финансы и страхование  0.17   \n",
            "2         ГРОДНЕНСКАЯ              ЁДКИ  Медицина и здравоохранение  0.40   \n",
            "3             МИНСКАЯ          ФАНИПОЛЬ  Государственное управление  0.29   \n",
            "4                 NaN             Минск  Медицина и здравоохранение  0.63   \n",
            "\n",
            "   CLIENTID  SCORINGMARK  UNDERAGECHILDRENCOUNT  VELCOMSCORING  FAMILYSTATUS  \n",
            "0    919517        233.0                      0            NaN             1  \n",
            "1    539353          NaN                      1            NaN             1  \n",
            "2    818913          NaN                      0            NaN             2  \n",
            "3    691598        216.0                      0            NaN             2  \n",
            "4    425193          NaN                      0            NaN             2  \n"
          ]
        }
      ],
      "source": [
        "import pandas as pd\n",
        "from sklearn.preprocessing import MinMaxScaler\n",
        "import os\n",
        "\n",
        "#Load dataset\n",
        "file_path = r\"/bank_credit_scoring.csv\"\n",
        "df = pd.read_csv(file_path)\n",
        "\n",
        "print(\"Dataset awal:\")\n",
        "print(df.head())"
      ]
    },
    {
      "cell_type": "code",
      "source": [
        "#Preprocessing Data\n",
        "#Menghapus kolom yang tidak relevan (contoh: CLIENTID)\n",
        "df_preprocessed = df.drop(columns=['CLIENTID'], errors='ignore')\n",
        "\n",
        "#Mengubah BIRTHDATE menjadi tahun kelahiran untuk analisis lebih lanjut\n",
        "df_preprocessed['BIRTHYEAR'] = pd.to_datetime(df_preprocessed['BIRTHDATE']).dt.year\n",
        "df_preprocessed = df_preprocessed.drop(columns=['BIRTHDATE'])\n",
        "\n",
        "#Memastikan tipe data kolom numerik\n",
        "numeric_cols = df_preprocessed.select_dtypes(include=['number']).columns\n",
        "df_preprocessed[numeric_cols] = df_preprocessed[numeric_cols].astype(float)\n",
        "\n",
        "#Menampilkan data setelah preprocessing\n",
        "print(\"\\nData setelah preprocessing:\")\n",
        "print(df_preprocessed.head())"
      ],
      "metadata": {
        "colab": {
          "base_uri": "https://localhost:8080/"
        },
        "id": "Mjl3AaMmawkP",
        "outputId": "1d2e54a5-39c3-4c40-dc7d-1cabd68fb965"
      },
      "execution_count": 4,
      "outputs": [
        {
          "output_type": "stream",
          "name": "stdout",
          "text": [
            "\n",
            "Data setelah preprocessing:\n",
            "   Задолженность  Просрочка, дни  Первоначльный лимит      SEX  \\\n",
            "0        6063.50             3.0               7000.0  Мужской   \n",
            "1        3765.04             0.0               5000.0  Женский   \n",
            "2        2067.66             0.0               2650.0  Женский   \n",
            "3        2370.39             0.0               3000.0  Женский   \n",
            "4        2280.55             0.0               3000.0  Женский   \n",
            "\n",
            "                   EDU   INCOME  TERM Рейтинг кредитной истории  \\\n",
            "0  Среднее специальное   703.07  60.0                        A1   \n",
            "1               Высшее  1693.68  60.0                        B2   \n",
            "2              Среднее   724.49  60.0                        C2   \n",
            "3  Среднее специальное  1045.84  60.0                        A3   \n",
            "4               Высшее  1092.65  60.0                        B3   \n",
            "\n",
            "              LV_AREA LV_SETTLEMENTNAME                INDUSTRYNAME   PDN  \\\n",
            "0  Гомельская область         КОСАКОВКА                         АПК  0.98   \n",
            "1                 NaN             МИНСК       Финансы и страхование  0.17   \n",
            "2         ГРОДНЕНСКАЯ              ЁДКИ  Медицина и здравоохранение  0.40   \n",
            "3             МИНСКАЯ          ФАНИПОЛЬ  Государственное управление  0.29   \n",
            "4                 NaN             Минск  Медицина и здравоохранение  0.63   \n",
            "\n",
            "   SCORINGMARK  UNDERAGECHILDRENCOUNT  VELCOMSCORING  FAMILYSTATUS  BIRTHYEAR  \n",
            "0        233.0                    0.0            NaN           1.0     1983.0  \n",
            "1          NaN                    1.0            NaN           1.0     1987.0  \n",
            "2          NaN                    0.0            NaN           2.0     1966.0  \n",
            "3        216.0                    0.0            NaN           2.0     1972.0  \n",
            "4          NaN                    0.0            NaN           2.0     1997.0  \n"
          ]
        }
      ]
    },
    {
      "cell_type": "code",
      "source": [
        "#Menangani Missing Data\n",
        "#Memeriksa missing values sebelum penanganan\n",
        "print(\"\\nMissing values sebelum penanganan:\")\n",
        "print(df_preprocessed.isnull().sum())\n",
        "\n",
        "#Menghapus baris dengan missing values\n",
        "df_cleaned = df_preprocessed.dropna()\n",
        "\n",
        "#Memeriksa missing values setelah penanganan\n",
        "print(\"\\nMissing values setelah penanganan:\")\n",
        "print(df_cleaned.isnull().sum())"
      ],
      "metadata": {
        "colab": {
          "base_uri": "https://localhost:8080/"
        },
        "id": "pbgzJnBOYSFx",
        "outputId": "8d8c3c68-25dd-4928-e37e-b85c4727d1bf"
      },
      "execution_count": 8,
      "outputs": [
        {
          "output_type": "stream",
          "name": "stdout",
          "text": [
            "\n",
            "Missing values sebelum penanganan:\n",
            "Задолженность                   0\n",
            "Просрочка, дни                  0\n",
            "Первоначльный лимит             0\n",
            "SEX                             0\n",
            "EDU                             0\n",
            "INCOME                          0\n",
            "TERM                            0\n",
            "Рейтинг кредитной истории     932\n",
            "LV_AREA                      2123\n",
            "LV_SETTLEMENTNAME              46\n",
            "INDUSTRYNAME                    0\n",
            "PDN                             0\n",
            "SCORINGMARK                  1634\n",
            "UNDERAGECHILDRENCOUNT           0\n",
            "VELCOMSCORING                9531\n",
            "FAMILYSTATUS                    0\n",
            "BIRTHYEAR                       0\n",
            "dtype: int64\n",
            "\n",
            "Missing values setelah penanganan:\n",
            "Задолженность                0\n",
            "Просрочка, дни               0\n",
            "Первоначльный лимит          0\n",
            "SEX                          0\n",
            "EDU                          0\n",
            "INCOME                       0\n",
            "TERM                         0\n",
            "Рейтинг кредитной истории    0\n",
            "LV_AREA                      0\n",
            "LV_SETTLEMENTNAME            0\n",
            "INDUSTRYNAME                 0\n",
            "PDN                          0\n",
            "SCORINGMARK                  0\n",
            "UNDERAGECHILDRENCOUNT        0\n",
            "VELCOMSCORING                0\n",
            "FAMILYSTATUS                 0\n",
            "BIRTHYEAR                    0\n",
            "dtype: int64\n"
          ]
        }
      ]
    },
    {
      "cell_type": "code",
      "source": [
        "#Normalisasi\n",
        "from sklearn.preprocessing import MinMaxScaler\n",
        "\n",
        "#Memilih kolom numerik\n",
        "numeric_cols = df_cleaned.select_dtypes(include=['number']).columns\n",
        "\n",
        "#Normalisasi menggunakan MinMaxScaler\n",
        "scaler_minmax = MinMaxScaler()\n",
        "df_normalized = df_cleaned.copy()\n",
        "df_normalized[numeric_cols] = scaler_minmax.fit_transform(df_cleaned[numeric_cols])\n",
        "\n",
        "#Menampilkan data setelah normalisasi\n",
        "print(\"\\nData setelah normalisasi:\")\n",
        "print(df_normalized.head())"
      ],
      "metadata": {
        "colab": {
          "base_uri": "https://localhost:8080/"
        },
        "id": "fj4NCbKaYoXC",
        "outputId": "9cc61092-a432-4ed0-a87f-191f9f9ab655"
      },
      "execution_count": 9,
      "outputs": [
        {
          "output_type": "stream",
          "name": "stdout",
          "text": [
            "\n",
            "Data setelah normalisasi:\n",
            "      Задолженность  Просрочка, дни  Первоначльный лимит      SEX  \\\n",
            "8536       0.066892             0.0             0.051282  Мужской   \n",
            "8546       0.341143             0.0             0.366667  Мужской   \n",
            "8601       0.164983             0.0             0.166667  Мужской   \n",
            "8611       0.044593             0.0             0.025641  Мужской   \n",
            "8626       0.022297             0.0             0.000000  Мужской   \n",
            "\n",
            "                      EDU    INCOME  TERM Рейтинг кредитной истории  \\\n",
            "8536              Среднее  0.094686   1.0                        E1   \n",
            "8546              Среднее  0.068303   1.0                        D2   \n",
            "8601  Среднее специальное  0.062197   1.0                        B3   \n",
            "8611  Среднее специальное  0.018609   1.0                        D3   \n",
            "8626              Среднее  0.016725   1.0                        C3   \n",
            "\n",
            "                LV_AREA LV_SETTLEMENTNAME         INDUSTRYNAME       PDN  \\\n",
            "8536    Минская область           БОРИСОВ         Производство  0.679245   \n",
            "8546           г. Минск             МИНСК         Производство  0.735849   \n",
            "8601          БРЕСТСКАЯ             БРЕСТ        Строительство  0.150943   \n",
            "8611  Витебская область            ЛЕПЕЛЬ  Транспорт/перевозки  0.433962   \n",
            "8626  ВИТЕБСКАЯ ОБЛАСТЬ              ОРША             Торговля  0.547170   \n",
            "\n",
            "      SCORINGMARK  UNDERAGECHILDRENCOUNT  VELCOMSCORING  FAMILYSTATUS  \\\n",
            "8536     0.199422               0.333333            0.0           0.0   \n",
            "8546     0.112717               0.000000            0.0           0.0   \n",
            "8601     0.375723               0.333333            0.0           0.0   \n",
            "8611     0.028902               0.666667            0.0           0.0   \n",
            "8626     0.222543               0.000000            0.0           1.0   \n",
            "\n",
            "      BIRTHYEAR  \n",
            "8536   0.466667  \n",
            "8546   0.044444  \n",
            "8601   0.933333  \n",
            "8611   0.711111  \n",
            "8626   0.800000  \n"
          ]
        }
      ]
    },
    {
      "cell_type": "code",
      "source": [
        "#Standarisasi\n",
        "from sklearn.preprocessing import StandardScaler\n",
        "\n",
        "#Standarisasi menggunakan StandardScaler\n",
        "scaler_standard = StandardScaler()\n",
        "df_standardized = df_normalized.copy()\n",
        "df_standardized[numeric_cols] = scaler_standard.fit_transform(df_normalized[numeric_cols])\n",
        "\n",
        "#Menampilkan data setelah standarisasi\n",
        "print(\"\\nData setelah standarisasi:\")\n",
        "print(df_standardized.head())"
      ],
      "metadata": {
        "colab": {
          "base_uri": "https://localhost:8080/"
        },
        "id": "YIzzbnQ7YxdC",
        "outputId": "de1d3eab-228e-4a27-f3a3-3a3abe6ecd44"
      },
      "execution_count": 10,
      "outputs": [
        {
          "output_type": "stream",
          "name": "stdout",
          "text": [
            "\n",
            "Data setelah standarisasi:\n",
            "      Задолженность  Просрочка, дни  Первоначльный лимит      SEX  \\\n",
            "8536      -0.410850       -0.205966            -0.419549  Мужской   \n",
            "8546       1.966777       -0.205966             2.048951  Мужской   \n",
            "8601       0.439556       -0.205966             0.483561  Мужской   \n",
            "8611      -0.604170       -0.205966            -0.620241  Мужской   \n",
            "8626      -0.797470       -0.205966            -0.820932  Мужской   \n",
            "\n",
            "                      EDU    INCOME      TERM Рейтинг кредитной истории  \\\n",
            "8536              Среднее  1.390066  0.557622                        E1   \n",
            "8546              Среднее  0.674402  0.557622                        D2   \n",
            "8601  Среднее специальное  0.508778  0.557622                        B3   \n",
            "8611  Среднее специальное -0.673602  0.557622                        D3   \n",
            "8626              Среднее -0.724688  0.557622                        C3   \n",
            "\n",
            "                LV_AREA LV_SETTLEMENTNAME         INDUSTRYNAME       PDN  \\\n",
            "8536    Минская область           БОРИСОВ         Производство  0.810757   \n",
            "8546           г. Минск             МИНСК         Производство  1.084589   \n",
            "8601          БРЕСТСКАЯ             БРЕСТ        Строительство -1.745007   \n",
            "8611  Витебская область            ЛЕПЕЛЬ  Транспорт/перевозки -0.375848   \n",
            "8626  ВИТЕБСКАЯ ОБЛАСТЬ              ОРША             Торговля  0.171816   \n",
            "\n",
            "      SCORINGMARK  UNDERAGECHILDRENCOUNT  VELCOMSCORING  FAMILYSTATUS  \\\n",
            "8536    -0.753539               0.434018      -0.580274     -1.003087   \n",
            "8546    -1.198638              -0.743426      -0.580274     -1.003087   \n",
            "8601     0.151497               0.434018      -0.580274     -1.003087   \n",
            "8611    -1.628902               1.611462      -0.580274     -1.003087   \n",
            "8626    -0.634845              -0.743426      -0.580274      0.996922   \n",
            "\n",
            "      BIRTHYEAR  \n",
            "8536  -0.696300  \n",
            "8546  -2.581793  \n",
            "8601   1.387667  \n",
            "8611   0.395302  \n",
            "8626   0.792248  \n"
          ]
        }
      ]
    },
    {
      "cell_type": "code",
      "source": [
        "#Verifikasi Akhir\n",
        "#Memeriksa missing values\n",
        "missing_values = df_standardized.isnull().sum()\n",
        "print(\"\\nMissing values akhir:\")\n",
        "print(missing_values[missing_values > 0])\n",
        "\n",
        "#Memeriksa duplikat\n",
        "duplicates = df_standardized.duplicated().sum()\n",
        "print(f\"\\nJumlah data duplikat: {duplicates}\")"
      ],
      "metadata": {
        "colab": {
          "base_uri": "https://localhost:8080/"
        },
        "id": "6I0hvO8WbpYz",
        "outputId": "b0d8ec7e-7a41-4ccd-fb12-c6e43369ddd0"
      },
      "execution_count": 11,
      "outputs": [
        {
          "output_type": "stream",
          "name": "stdout",
          "text": [
            "\n",
            "Missing values akhir:\n",
            "Series([], dtype: int64)\n",
            "\n",
            "Jumlah data duplikat: 0\n"
          ]
        }
      ]
    },
    {
      "cell_type": "code",
      "source": [
        "import pandas as pd\n",
        "from sklearn.model_selection import train_test_split\n",
        "from sklearn.preprocessing import MinMaxScaler, StandardScaler, LabelEncoder\n",
        "\n",
        "# Memuat dataset\n",
        "file_path = r\"/bank_credit_scoring.csv\"    # Pastikan nama file sesuai dengan yang diunggah\n",
        "df = pd.read_csv(file_path)\n",
        "\n",
        "# Menghapus kolom yang tidak relevan\n",
        "df = df.drop(columns=['CLIENTID'], errors='ignore')\n",
        "\n",
        "# Mengubah BIRTHDATE menjadi BIRTHYEAR (jika ada)\n",
        "if 'BIRTHDATE' in df.columns:\n",
        "    df['BIRTHYEAR'] = pd.to_datetime(df['BIRTHDATE']).dt.year\n",
        "    df = df.drop(columns=['BIRTHDATE'])\n",
        "\n",
        "# Menangani missing values\n",
        "numeric_cols = df.select_dtypes(include=['float64', 'int64']).columns\n",
        "df[numeric_cols] = df[numeric_cols].fillna(df[numeric_cols].median())\n",
        "\n",
        "categorical_cols = df.select_dtypes(include=['object']).columns\n",
        "for col in categorical_cols:\n",
        "    df[col] = df[col].fillna(df[col].mode()[0])\n",
        "\n",
        "# Encoding kolom kategorikal\n",
        "label_encoders = {}\n",
        "for col in categorical_cols:\n",
        "    le = LabelEncoder()\n",
        "    df[col] = le.fit_transform(df[col])\n",
        "    label_encoders[col] = le\n",
        "\n",
        "# Memisahkan fitur (X) dan target (y)\n",
        "X = df.drop(columns=['FAMILYSTATUS'])  # Ganti 'FAMILYSTATUS' sesuai kolom target Anda\n",
        "y = df['FAMILYSTATUS']\n",
        "\n",
        "# Normalisasi dan standarisasi\n",
        "numeric_cols_X = X.select_dtypes(include=['float64', 'int64']).columns\n",
        "scaler_minmax = MinMaxScaler()\n",
        "X[numeric_cols_X] = scaler_minmax.fit_transform(X[numeric_cols_X])\n",
        "scaler_standard = StandardScaler()\n",
        "X[numeric_cols_X] = scaler_standard.fit_transform(X[numeric_cols_X])\n",
        "\n",
        "# Membagi data menjadi train dan test\n",
        "X_train, X_test, y_train, y_test = train_test_split(X, y, test_size=0.2, random_state=42)\n",
        "\n",
        "print(\"Data siap untuk pelatihan.\")"
      ],
      "metadata": {
        "colab": {
          "base_uri": "https://localhost:8080/"
        },
        "id": "VWpeGdO-Y4bg",
        "outputId": "10152303-9677-40fb-b494-12d764221f64"
      },
      "execution_count": 6,
      "outputs": [
        {
          "output_type": "stream",
          "name": "stdout",
          "text": [
            "Data siap untuk pelatihan.\n"
          ]
        }
      ]
    },
    {
      "cell_type": "code",
      "source": [
        "from sklearn.ensemble import RandomForestClassifier\n",
        "from sklearn.naive_bayes import GaussianNB\n",
        "from sklearn.metrics import accuracy_score, precision_score, recall_score, f1_score\n",
        "import time\n",
        "import pandas as pd\n",
        "\n",
        "# Inisialisasi model\n",
        "rf_model = RandomForestClassifier(random_state=42)\n",
        "nb_model = GaussianNB()\n",
        "\n",
        "# Melatih Random Forest dan mengukur waktu\n",
        "start_time = time.time()\n",
        "rf_model.fit(X_train, y_train)\n",
        "rf_time = time.time() - start_time\n",
        "rf_pred = rf_model.predict(X_test)\n",
        "\n",
        "# Melatih Naive Bayes dan mengukur waktu\n",
        "start_time = time.time()\n",
        "nb_model.fit(X_train, y_train)\n",
        "nb_time = time.time() - start_time\n",
        "nb_pred = nb_model.predict(X_test)\n",
        "\n",
        "# Menghitung metrik evaluasi\n",
        "rf_accuracy = accuracy_score(y_test, rf_pred)\n",
        "rf_precision = precision_score(y_test, rf_pred, average='weighted', zero_division=0)\n",
        "rf_recall = recall_score(y_test, rf_pred, average='weighted', zero_division=0)\n",
        "rf_f1 = f1_score(y_test, rf_pred, average='weighted', zero_division=0)\n",
        "\n",
        "nb_accuracy = accuracy_score(y_test, nb_pred)\n",
        "nb_precision = precision_score(y_test, nb_pred, average='weighted', zero_division=0)\n",
        "nb_recall = recall_score(y_test, nb_pred, average='weighted', zero_division=0)\n",
        "nb_f1 = f1_score(y_test, nb_pred, average='weighted', zero_division=0)\n",
        "\n",
        "# Menyusun hasil dalam tabel\n",
        "results = {\n",
        "    'Model': ['Random Forest', 'Naive Bayes'],\n",
        "    'Accuracy': [rf_accuracy, nb_accuracy],\n",
        "    'Precision': [rf_precision, nb_precision],\n",
        "    'Recall': [rf_recall, nb_recall],\n",
        "    'F1-Score': [rf_f1, nb_f1],\n",
        "    'Waktu (detik)': [rf_time, nb_time]\n",
        "}\n",
        "results_df = pd.DataFrame(results)\n",
        "\n",
        "print(\"\\nHasil Perbandingan Model:\")\n",
        "print(results_df)"
      ],
      "metadata": {
        "colab": {
          "base_uri": "https://localhost:8080/"
        },
        "id": "b4PwxzU1dPB_",
        "outputId": "2de60027-5d58-4d9c-bf25-388fc1ec4791"
      },
      "execution_count": 7,
      "outputs": [
        {
          "output_type": "stream",
          "name": "stdout",
          "text": [
            "\n",
            "Hasil Perbandingan Model:\n",
            "           Model  Accuracy  Precision    Recall  F1-Score  Waktu (detik)\n",
            "0  Random Forest  0.764929   0.764323  0.764929  0.764624       4.091902\n",
            "1    Naive Bayes  0.646851   0.676329  0.646851  0.655620       0.014561\n"
          ]
        }
      ]
    }
  ]
}