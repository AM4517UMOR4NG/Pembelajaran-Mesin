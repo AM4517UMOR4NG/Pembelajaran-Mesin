{
 "cells": [
  {
   "cell_type": "code",
   "execution_count": 97,
   "id": "4a136f96-7543-4770-8d8f-85c339d9b996",
   "metadata": {},
   "outputs": [],
   "source": [
    "import pandas as pd  \n",
    "from sklearn.preprocessing import MinMaxScaler\n",
    "import os\n",
    "\n",
    "#Load dataset\n",
    "file_path = r\"C:\\Users\\aekmo\\Desktop\\archive (1)\\ucl defensive actions.csv\"  \n",
    "df = pd.read_csv(file_path)"
   ]
  },
  {
   "cell_type": "code",
   "execution_count": 27,
   "id": "e3f1979c-068f-4ea0-b6f8-1ac0cd301499",
   "metadata": {},
   "outputs": [
    {
     "data": {
      "text/plain": [
       "Player                                   0\n",
       "Nationality                              0\n",
       "Position                                 0\n",
       "Club                                     0\n",
       "Age                                      0\n",
       "Born                                     0\n",
       "90s                                      0\n",
       "No. of players tackled                   0\n",
       "Tackles won                              0\n",
       "Tackles (Def 3rd)                        0\n",
       "Tackles (Mid 3rd)                        0\n",
       "Tackles (Att 3rd)                        0\n",
       "No. of dribblers tackled                 0\n",
       "Dribbles challenged (total)              0\n",
       "% of dribblers successfully tackled    128\n",
       "challenges lost                          0\n",
       "Blocks                                   0\n",
       "Shots blocked                            0\n",
       "Passes blocked                           0\n",
       "Interceptions                            0\n",
       "Tackles + internceptions                 0\n",
       "Clearances                               0\n",
       "Errors                                   0\n",
       "dtype: int64"
      ]
     },
     "execution_count": 27,
     "metadata": {},
     "output_type": "execute_result"
    }
   ],
   "source": [
    "#Periksa jumlah missing values di setiap kolom\n",
    "missing_data = df.isnull().sum()\n",
    "missing_data"
   ]
  },
  {
   "cell_type": "code",
   "execution_count": 57,
   "id": "b9820962-d9e5-49ba-ae84-a4cfa5190216",
   "metadata": {},
   "outputs": [
    {
     "name": "stdout",
     "output_type": "stream",
     "text": [
      "Data setelah Normalisasi:\n",
      "              Player Nationality Position           Club       Age      Born  \\\n",
      "0         Liel Abada         ISR    FW,MF         Celtic  0.173913  0.782609   \n",
      "1  Oliver Abildgaard         DEN       MF         Celtic  0.434783  0.565217   \n",
      "2  Mohammad Abu Fani         ISR       MF  Maccabi Haifa  0.347826  0.652174   \n",
      "3   Francesco Acerbi         ITA       DF          Inter  0.782609  0.217391   \n",
      "4       Marcos Acuña         ARG    DF,MF        Sevilla  0.608696  0.347826   \n",
      "\n",
      "        90s  No. of players tackled  Tackles won  Tackles (Def 3rd)  ...  \\\n",
      "0  0.205128                0.034483     0.055556           0.000000  ...   \n",
      "1  0.059829                0.137931     0.166667           0.176471  ...   \n",
      "2  0.376068                0.310345     0.333333           0.352941  ...   \n",
      "3  0.871795                0.344828     0.444444           0.470588  ...   \n",
      "4  0.205128                0.310345     0.277778           0.411765  ...   \n",
      "\n",
      "   Dribbles challenged (total)  % of dribblers successfully tackled  \\\n",
      "0                      0.03125                                0.000   \n",
      "1                      0.09375                                0.500   \n",
      "2                      0.21875                                0.375   \n",
      "3                      0.18750                                0.571   \n",
      "4                      0.25000                                0.889   \n",
      "\n",
      "   challenges lost    Blocks  Shots blocked  Passes blocked  Interceptions  \\\n",
      "0         0.090909  0.000000       0.000000          0.0000       0.074074   \n",
      "1         0.090909  0.055556       0.000000          0.0625       0.000000   \n",
      "2         0.227273  0.388889       0.181818          0.3125       0.111111   \n",
      "3         0.136364  0.444444       0.181818          0.3750       0.407407   \n",
      "4         0.045455  0.000000       0.000000          0.0000       0.074074   \n",
      "\n",
      "   Tackles + internceptions  Clearances  Errors  \n",
      "0                  0.056604    0.018519     0.0  \n",
      "1                  0.075472    0.018519     0.0  \n",
      "2                  0.226415    0.000000     0.0  \n",
      "3                  0.396226    0.851852     0.0  \n",
      "4                  0.207547    0.055556     0.0  \n",
      "\n",
      "[5 rows x 23 columns]\n",
      "\n",
      "Dataset yang sudah dinormalisasi dan dibersihkan disimpan sebagai 'C:\\Users\\aekmo\\Desktop\\archive (1)\\ucl_defensive_actions_normalized.csv'\n"
     ]
    }
   ],
   "source": [
    "df.dropna(inplace=True)  \n",
    "\n",
    "numeric_cols = df.select_dtypes(include=['number']).columns\n",
    "scaler = MinMaxScaler()\n",
    "df[numeric_cols] = scaler.fit_transform(df[numeric_cols])\n",
    "\n",
    "print(\"Data setelah Normalisasi:\")\n",
    "print(df.head())\n",
    "\n",
    "save_path = r\"C:\\Users\\aekmo\\Desktop\\archive (1)\\ucl_defensive_actions_normalized.csv\"\n",
    "save_folder = os.path.dirname(save_path)\n",
    "if not os.path.exists(save_folder):\n",
    "    os.makedirs(save_folder)\n",
    "\n",
    "df.to_csv(save_path, index=False)\n",
    "print(f\"\\nDataset yang sudah dinormalisasi dan dibersihkan disimpan sebagai '{save_path}'\")"
   ]
  },
  {
   "cell_type": "code",
   "execution_count": 59,
   "id": "a8e0a106-4b8b-4c4c-bcc8-00fc940adddd",
   "metadata": {},
   "outputs": [
    {
     "name": "stdout",
     "output_type": "stream",
     "text": [
      "Missing values per column:\n",
      "Series([], dtype: int64)\n"
     ]
    }
   ],
   "source": [
    "import pandas as pd\n",
    "\n",
    "# Cek apakah masih ada missing values\n",
    "missing_values = df.isnull().sum()\n",
    "print(\"Missing values per column:\")\n",
    "print(missing_values[missing_values > 0])  # Hanya tampilkan kolom yang masih memiliki missing values"
   ]
  },
  {
   "cell_type": "code",
   "execution_count": 61,
   "id": "78e822bc-722a-42ca-b937-bc664adb5beb",
   "metadata": {},
   "outputs": [
    {
     "name": "stdout",
     "output_type": "stream",
     "text": [
      "Jumlah data duplikat: 0\n"
     ]
    }
   ],
   "source": [
    "duplicates = df.duplicated().sum()\n",
    "print(f\"Jumlah data duplikat: {duplicates}\")"
   ]
  }
 ],
 "metadata": {
  "kernelspec": {
   "display_name": "Python 3 (ipykernel)",
   "language": "python",
   "name": "python3"
  },
  "language_info": {
   "codemirror_mode": {
    "name": "ipython",
    "version": 3
   },
   "file_extension": ".py",
   "mimetype": "text/x-python",
   "name": "python",
   "nbconvert_exporter": "python",
   "pygments_lexer": "ipython3",
   "version": "3.12.7"
  }
 },
 "nbformat": 4,
 "nbformat_minor": 5
}
