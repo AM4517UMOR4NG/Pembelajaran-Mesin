{
  "nbformat": 4,
  "nbformat_minor": 0,
  "metadata": {
    "colab": {
      "provenance": []
    },
    "kernelspec": {
      "name": "python3",
      "display_name": "Python 3"
    },
    "language_info": {
      "name": "python"
    }
  },
  "cells": [
    {
      "cell_type": "code",
      "execution_count": 15,
      "metadata": {
        "colab": {
          "base_uri": "https://localhost:8080/"
        },
        "id": "_mWCJkjLU3Cs",
        "outputId": "77f78c29-0f28-4e73-89fe-08a3ce1f05cc"
      },
      "outputs": [
        {
          "output_type": "stream",
          "name": "stdout",
          "text": [
            "Memuat dan memproses dataset...\n",
            "\n",
            "Informasi dataset:\n",
            "Jumlah sampel: 1000, Jumlah fitur: 10\n",
            "\n",
            "Lima baris pertama data:\n",
            "   Unnamed: 0  Age     Sex  Job Housing Saving accounts Checking account  \\\n",
            "0           0   67    male    2     own             NaN           little   \n",
            "1           1   22  female    2     own          little         moderate   \n",
            "2           2   49    male    1     own          little              NaN   \n",
            "3           3   45    male    2    free          little           little   \n",
            "4           4   53    male    2    free          little           little   \n",
            "\n",
            "   Credit amount  Duration              Purpose  \n",
            "0           1169         6             radio/TV  \n",
            "1           5951        48             radio/TV  \n",
            "2           2096        12            education  \n",
            "3           7882        42  furniture/equipment  \n",
            "4           4870        24                  car  \n",
            "\n",
            "Mengecek nilai yang hilang:\n",
            "Unnamed: 0            0\n",
            "Age                   0\n",
            "Sex                   0\n",
            "Job                   0\n",
            "Housing               0\n",
            "Saving accounts     183\n",
            "Checking account    394\n",
            "Credit amount         0\n",
            "Duration              0\n",
            "Purpose               0\n",
            "dtype: int64\n"
          ]
        }
      ],
      "source": [
        "import pandas as pd\n",
        "import numpy as np\n",
        "import time\n",
        "import matplotlib.pyplot as plt\n",
        "import seaborn as sns\n",
        "from sklearn.model_selection import train_test_split, GridSearchCV\n",
        "from sklearn.preprocessing import StandardScaler\n",
        "from sklearn.svm import SVC\n",
        "from sklearn.metrics import accuracy_score, classification_report, confusion_matrix\n",
        "\n",
        "# Memuat dataset\n",
        "print(\"Memuat dan memproses dataset...\")\n",
        "data = pd.read_csv('/german_credit_data.csv')\n",
        "\n",
        "# Melihat struktur data\n",
        "print(\"\\nInformasi dataset:\")\n",
        "print(f\"Jumlah sampel: {data.shape[0]}, Jumlah fitur: {data.shape[1]}\")\n",
        "print(\"\\nLima baris pertama data:\")\n",
        "print(data.head())\n",
        "\n",
        "# Mengecek nilai yang hilang\n",
        "print(\"\\nMengecek nilai yang hilang:\")\n",
        "print(data.isnull().sum())"
      ]
    },
    {
      "cell_type": "code",
      "source": [
        "# Mengisi nilai yang hilang dengan modus\n",
        "data['Saving accounts'] = data['Saving accounts'].fillna(data['Saving accounts'].mode()[0])\n",
        "data['Checking account'] = data['Checking account'].fillna(data['Checking account'].mode()[0])\n",
        "\n",
        "# Menyiapkan target (Risk)\n",
        "# Pastikan kolom Risk ada, jika tidak ada kita buat simulasi\n",
        "if 'Risk' not in data.columns:\n",
        "    print(\"\\nKolom 'Risk' tidak ditemukan. Membuat simulasi label risk...\")\n",
        "    # Membuat aturan sederhana berdasarkan Credit amount dan Duration\n",
        "    # Ini hanya contoh simulasi, silakan sesuaikan dengan kebutuhan\n",
        "    threshold_amount = data['Credit amount'].median()\n",
        "    threshold_duration = data['Duration'].median()\n",
        "\n",
        "    # Jika Credit amount tinggi dan Duration panjang, risiko tinggi (bad=0)\n",
        "    # Sebaliknya, risiko rendah (good=1)\n",
        "    data['Risk'] = np.where(\n",
        "        (data['Credit amount'] > threshold_amount) & (data['Duration'] > threshold_duration),\n",
        "        'bad', 'good')\n",
        "\n",
        "    print(\"Label Risk telah dibuat dengan simulasi.\")\n",
        "else:\n",
        "    print(\"\\nMenggunakan kolom Risk yang tersedia di dataset.\")\n",
        "\n",
        "# Mengkonversi Risk ke numerik\n",
        "data['Risk'] = data['Risk'].map({'good': 1, 'bad': 0})\n",
        "\n",
        "# Melihat distribusi kelas target\n",
        "print(\"\\nDistribusi kelas Risk:\")\n",
        "print(data['Risk'].value_counts())\n",
        "print(f\"Proporsi kelas: {data['Risk'].value_counts(normalize=True)}\")\n",
        "\n",
        "# Memproses fitur kategorik\n",
        "print(\"\\nMengkodekan variabel kategorik...\")\n",
        "categorical_cols = ['Sex', 'Housing', 'Saving accounts', 'Checking account', 'Purpose']\n",
        "data_encoded = pd.get_dummies(data, columns=categorical_cols, drop_first=True)\n",
        "\n",
        "print(f\"Jumlah fitur setelah one-hot encoding: {data_encoded.shape[1]}\")\n",
        "\n",
        "# Memisahkan fitur dan target\n",
        "X = data_encoded.drop(['Risk'], axis=1)\n",
        "y = data_encoded['Risk']\n",
        "\n",
        "# Membagi data\n",
        "X_train, X_test, y_train, y_test = train_test_split(X, y, test_size=0.2, random_state=42)\n",
        "\n",
        "# Normalisasi data\n",
        "scaler = StandardScaler()\n",
        "X_train_scaled = scaler.fit_transform(X_train)\n",
        "X_test_scaled = scaler.transform(X_test)\n",
        "\n",
        "print(\"\\nData telah dinormalisasi.\")\n",
        "print(f\"Jumlah sampel pelatihan: {X_train.shape[0]}\")\n",
        "print(f\"Jumlah sampel pengujian: {X_test.shape[0]}\")"
      ],
      "metadata": {
        "colab": {
          "base_uri": "https://localhost:8080/"
        },
        "id": "EjJQVXBfVmZx",
        "outputId": "6881134c-4f02-46ef-dfee-191e3c2d3ecf"
      },
      "execution_count": 16,
      "outputs": [
        {
          "output_type": "stream",
          "name": "stdout",
          "text": [
            "\n",
            "Kolom 'Risk' tidak ditemukan. Membuat simulasi label risk...\n",
            "Label Risk telah dibuat dengan simulasi.\n",
            "\n",
            "Distribusi kelas Risk:\n",
            "Risk\n",
            "1    650\n",
            "0    350\n",
            "Name: count, dtype: int64\n",
            "Proporsi kelas: Risk\n",
            "1    0.65\n",
            "0    0.35\n",
            "Name: proportion, dtype: float64\n",
            "\n",
            "Mengkodekan variabel kategorik...\n",
            "Jumlah fitur setelah one-hot encoding: 21\n",
            "\n",
            "Data telah dinormalisasi.\n",
            "Jumlah sampel pelatihan: 800\n",
            "Jumlah sampel pengujian: 200\n"
          ]
        }
      ]
    },
    {
      "cell_type": "code",
      "source": [
        "print(\"\\n\" + \"=\"*50)\n",
        "print(\"Pelatihan dan pengujian SVM dengan berbagai kernel\")\n",
        "print(\"=\"*50)\n",
        "\n",
        "# Daftar kernel\n",
        "kernels = ['linear', 'rbf', 'poly', 'sigmoid']\n",
        "results = []\n",
        "\n",
        "# Pelatihan dan pengujian untuk setiap kernel\n",
        "for kernel in kernels:\n",
        "    print(f\"\\nKernel: {kernel}\")\n",
        "    start_time = time.time()\n",
        "\n",
        "    # Inisialisasi model SVM\n",
        "    model = SVC(kernel=kernel, C=1.0, gamma='scale', random_state=42)\n",
        "\n",
        "    # Pelatihan model\n",
        "    print(\"Melatih model...\")\n",
        "    model.fit(X_train_scaled, y_train)\n",
        "\n",
        "    # Prediksi\n",
        "    y_pred = model.predict(X_test_scaled)\n",
        "\n",
        "    # Menghitung akurasi\n",
        "    accuracy = accuracy_score(y_test, y_pred)\n",
        "\n",
        "    # Menghitung waktu eksekusi\n",
        "    exec_time = time.time() - start_time\n",
        "\n",
        "    # Menyimpan hasil\n",
        "    results.append({'Kernel': kernel, 'Akurasi': accuracy, 'Waktu Eksekusi (detik)': exec_time})\n",
        "\n",
        "    print(f\"Akurasi: {accuracy:.4f}\")\n",
        "    print(f\"Waktu Eksekusi: {exec_time:.4f} detik\")\n",
        "\n",
        "    # Confusion matrix dan classification report\n",
        "    cm = confusion_matrix(y_test, y_pred)\n",
        "    print(\"\\nConfusion Matrix:\")\n",
        "    print(cm)\n",
        "\n",
        "    print(\"\\nClassification Report:\")\n",
        "    print(classification_report(y_test, y_pred))\n",
        "\n",
        "# Membuat tabel hasil\n",
        "results_df = pd.DataFrame(results)\n",
        "print(\"\\nTabel Hasil Uji Coba:\")\n",
        "print(results_df)"
      ],
      "metadata": {
        "colab": {
          "base_uri": "https://localhost:8080/"
        },
        "id": "3Tbc18d4Wd0Y",
        "outputId": "8c4e7658-ea4e-433e-8a74-0b54f93de0b5"
      },
      "execution_count": 17,
      "outputs": [
        {
          "output_type": "stream",
          "name": "stdout",
          "text": [
            "\n",
            "==================================================\n",
            "Pelatihan dan pengujian SVM dengan berbagai kernel\n",
            "==================================================\n",
            "\n",
            "Kernel: linear\n",
            "Melatih model...\n",
            "Akurasi: 0.9000\n",
            "Waktu Eksekusi: 0.1506 detik\n",
            "\n",
            "Confusion Matrix:\n",
            "[[ 51  13]\n",
            " [  7 129]]\n",
            "\n",
            "Classification Report:\n",
            "              precision    recall  f1-score   support\n",
            "\n",
            "           0       0.88      0.80      0.84        64\n",
            "           1       0.91      0.95      0.93       136\n",
            "\n",
            "    accuracy                           0.90       200\n",
            "   macro avg       0.89      0.87      0.88       200\n",
            "weighted avg       0.90      0.90      0.90       200\n",
            "\n",
            "\n",
            "Kernel: rbf\n",
            "Melatih model...\n",
            "Akurasi: 0.8700\n",
            "Waktu Eksekusi: 0.1906 detik\n",
            "\n",
            "Confusion Matrix:\n",
            "[[ 44  20]\n",
            " [  6 130]]\n",
            "\n",
            "Classification Report:\n",
            "              precision    recall  f1-score   support\n",
            "\n",
            "           0       0.88      0.69      0.77        64\n",
            "           1       0.87      0.96      0.91       136\n",
            "\n",
            "    accuracy                           0.87       200\n",
            "   macro avg       0.87      0.82      0.84       200\n",
            "weighted avg       0.87      0.87      0.87       200\n",
            "\n",
            "\n",
            "Kernel: poly\n",
            "Melatih model...\n",
            "Akurasi: 0.8350\n",
            "Waktu Eksekusi: 0.1303 detik\n",
            "\n",
            "Confusion Matrix:\n",
            "[[ 35  29]\n",
            " [  4 132]]\n",
            "\n",
            "Classification Report:\n",
            "              precision    recall  f1-score   support\n",
            "\n",
            "           0       0.90      0.55      0.68        64\n",
            "           1       0.82      0.97      0.89       136\n",
            "\n",
            "    accuracy                           0.83       200\n",
            "   macro avg       0.86      0.76      0.78       200\n",
            "weighted avg       0.84      0.83      0.82       200\n",
            "\n",
            "\n",
            "Kernel: sigmoid\n",
            "Melatih model...\n",
            "Akurasi: 0.8900\n",
            "Waktu Eksekusi: 0.0978 detik\n",
            "\n",
            "Confusion Matrix:\n",
            "[[ 49  15]\n",
            " [  7 129]]\n",
            "\n",
            "Classification Report:\n",
            "              precision    recall  f1-score   support\n",
            "\n",
            "           0       0.88      0.77      0.82        64\n",
            "           1       0.90      0.95      0.92       136\n",
            "\n",
            "    accuracy                           0.89       200\n",
            "   macro avg       0.89      0.86      0.87       200\n",
            "weighted avg       0.89      0.89      0.89       200\n",
            "\n",
            "\n",
            "Tabel Hasil Uji Coba:\n",
            "    Kernel  Akurasi  Waktu Eksekusi (detik)\n",
            "0   linear    0.900                0.150567\n",
            "1      rbf    0.870                0.190594\n",
            "2     poly    0.835                0.130286\n",
            "3  sigmoid    0.890                0.097760\n"
          ]
        }
      ]
    },
    {
      "cell_type": "code",
      "source": [
        "# Visualisasi hasil\n",
        "plt.figure(figsize=(12, 5))\n",
        "\n",
        "# Plot akurasi\n",
        "plt.subplot(1, 2, 1)\n",
        "sns.barplot(x='Kernel', y='Akurasi', data=results_df)\n",
        "plt.title('Akurasi per Kernel')\n",
        "plt.ylim(0.5, 1.0)  # Mulai dari 0.5 untuk melihat perbedaan yang lebih jelas\n",
        "\n",
        "# Plot waktu eksekusi\n",
        "plt.subplot(1, 2, 2)\n",
        "sns.barplot(x='Kernel', y='Waktu Eksekusi (detik)', data=results_df)\n",
        "plt.title('Waktu Eksekusi per Kernel')\n",
        "\n",
        "plt.tight_layout()\n",
        "plt.savefig('svm_kernel_comparison.png')\n",
        "print(\"\\nGrafik perbandingan telah disimpan sebagai 'svm_kernel_comparison.png'\")"
      ],
      "metadata": {
        "colab": {
          "base_uri": "https://localhost:8080/",
          "height": 330
        },
        "id": "wpI-kZXJWf7b",
        "outputId": "84dc0820-c9b2-413f-f77b-45d98dacb3e9"
      },
      "execution_count": 18,
      "outputs": [
        {
          "output_type": "stream",
          "name": "stdout",
          "text": [
            "\n",
            "Grafik perbandingan telah disimpan sebagai 'svm_kernel_comparison.png'\n"
          ]
        },
        {
          "output_type": "display_data",
          "data": {
            "text/plain": [
              "<Figure size 1200x500 with 2 Axes>"
            ],
            "image/png": "[encoded data removed]"
          },
          "metadata": {}
        }
      ]
    },
    {
      "cell_type": "code",
      "source": [
        "print(\"\\n\" + \"=\"*50)\n",
        "print(\"Penyetelan Hiperparameter untuk Kernel RBF\")\n",
        "print(\"=\"*50)\n",
        "\n",
        "# Parameter grid\n",
        "param_grid = {\n",
        "    'C': [0.1, 1, 10, 100],\n",
        "    'gamma': ['scale', 'auto', 0.1, 0.01, 0.001]\n",
        "}\n",
        "\n",
        "# Inisialisasi model dan GridSearch\n",
        "print(\"\\nMemulai pencarian parameter optimal...\")\n",
        "model = SVC(kernel='rbf', random_state=42)\n",
        "grid_search = GridSearchCV(model, param_grid, cv=5, scoring='accuracy')\n",
        "\n",
        "start_time = time.time()\n",
        "grid_search.fit(X_train_scaled, y_train)\n",
        "grid_time = time.time() - start_time\n",
        "\n",
        "# Hasil terbaik\n",
        "print(f\"\\nParameter terbaik: {grid_search.best_params_}\")\n",
        "print(f\"Akurasi validasi silang terbaik: {grid_search.best_score_:.4f}\")\n",
        "print(f\"Waktu pencarian: {grid_time:.2f} detik\")\n",
        "\n",
        "# Menguji model optimal pada data uji\n",
        "best_model = grid_search.best_estimator_\n",
        "y_pred_best = best_model.predict(X_test_scaled)\n",
        "best_accuracy = accuracy_score(y_test, y_pred_best)\n",
        "\n",
        "print(f\"\\nAkurasi model optimal pada data uji: {best_accuracy:.4f}\")\n",
        "print(\"\\nClassification Report untuk model optimal:\")\n",
        "print(classification_report(y_test, y_pred_best))"
      ],
      "metadata": {
        "colab": {
          "base_uri": "https://localhost:8080/"
        },
        "id": "NRc8O5hoWjlv",
        "outputId": "23d4782f-dc83-442b-aeee-bd72dc23e930"
      },
      "execution_count": 19,
      "outputs": [
        {
          "output_type": "stream",
          "name": "stdout",
          "text": [
            "\n",
            "==================================================\n",
            "Penyetelan Hiperparameter untuk Kernel RBF\n",
            "==================================================\n",
            "\n",
            "Memulai pencarian parameter optimal...\n",
            "\n",
            "Parameter terbaik: {'C': 10, 'gamma': 0.01}\n",
            "Akurasi validasi silang terbaik: 0.9175\n",
            "Waktu pencarian: 1.85 detik\n",
            "\n",
            "Akurasi model optimal pada data uji: 0.8950\n",
            "\n",
            "Classification Report untuk model optimal:\n",
            "              precision    recall  f1-score   support\n",
            "\n",
            "           0       0.88      0.78      0.83        64\n",
            "           1       0.90      0.95      0.92       136\n",
            "\n",
            "    accuracy                           0.90       200\n",
            "   macro avg       0.89      0.86      0.88       200\n",
            "weighted avg       0.89      0.90      0.89       200\n",
            "\n"
          ]
        }
      ]
    },
    {
      "cell_type": "code",
      "source": [
        "print(\"\\n\" + \"=\"*50)\n",
        "print(\"Kesimpulan\")\n",
        "print(\"=\"*50)\n",
        "\n",
        "best_kernel = results_df.loc[results_df['Akurasi'].idxmax()]['Kernel']\n",
        "worst_kernel = results_df.loc[results_df['Akurasi'].idxmin()]['Kernel']\n",
        "fastest_kernel = results_df.loc[results_df['Waktu Eksekusi (detik)'].idxmin()]['Kernel']\n",
        "\n",
        "print(f\"Kernel dengan akurasi tertinggi: {best_kernel} ({results_df['Akurasi'].max():.4f})\")\n",
        "print(f\"Kernel dengan akurasi terendah: {worst_kernel} ({results_df['Akurasi'].min():.4f})\")\n",
        "print(f\"Kernel tercepat: {fastest_kernel} ({results_df['Waktu Eksekusi (detik)'].min():.4f} detik)\")\n",
        "\n",
        "if best_accuracy > results_df['Akurasi'].max():\n",
        "    print(f\"\\nSetelah penyetelan parameter, akurasi meningkat dari {results_df['Akurasi'].max():.4f} menjadi {best_accuracy:.4f}\")\n",
        "    print(f\"Parameter optimal: C={grid_search.best_params_['C']}, gamma={grid_search.best_params_['gamma']}\")\n",
        "else:\n",
        "    print(\"\\nPenyetelan parameter tidak meningkatkan akurasi secara signifikan.\")\n",
        "\n",
        "print(\"\\nRekomendasi:\")\n",
        "if best_accuracy > results_df['Akurasi'].max():\n",
        "    print(f\"Gunakan kernel RBF dengan C={grid_search.best_params_['C']} dan gamma={grid_search.best_params_['gamma']} untuk klasifikasi risiko kredit ini.\")\n",
        "else:\n",
        "    print(f\"Gunakan kernel {best_kernel} untuk klasifikasi risiko kredit ini.\")"
      ],
      "metadata": {
        "colab": {
          "base_uri": "https://localhost:8080/"
        },
        "id": "v2NHcYzRWqnh",
        "outputId": "30fe7c06-3446-4105-d17d-633c87c51b15"
      },
      "execution_count": 20,
      "outputs": [
        {
          "output_type": "stream",
          "name": "stdout",
          "text": [
            "\n",
            "==================================================\n",
            "Kesimpulan\n",
            "==================================================\n",
            "Kernel dengan akurasi tertinggi: linear (0.9000)\n",
            "Kernel dengan akurasi terendah: poly (0.8350)\n",
            "Kernel tercepat: sigmoid (0.0978 detik)\n",
            "\n",
            "Penyetelan parameter tidak meningkatkan akurasi secara signifikan.\n",
            "\n",
            "Rekomendasi:\n",
            "Gunakan kernel linear untuk klasifikasi risiko kredit ini.\n"
          ]
        }
      ]
    },
    {
      "cell_type": "code",
      "source": [],
      "metadata": {
        "id": "gsWRU0O_W0ML"
      },
      "execution_count": 21,
      "outputs": []
    }
  ]
}